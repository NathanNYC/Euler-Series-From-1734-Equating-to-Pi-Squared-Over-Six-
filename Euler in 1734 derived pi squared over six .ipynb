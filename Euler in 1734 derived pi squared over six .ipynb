{
 "cells": [
  {
   "cell_type": "code",
   "execution_count": 31,
   "id": "8969910d",
   "metadata": {},
   "outputs": [
    {
     "name": "stdout",
     "output_type": "stream",
     "text": [
      "1.6449240667982423\n",
      "1.6449333824106669\n",
      "-0.0\n"
     ]
    }
   ],
   "source": [
    "\n",
    "\n",
    "x=1.0\n",
    "y=2.0\n",
    "RunningTotal=0.0\n",
    "b=(3.141592**2)/6.0 \n",
    "\n",
    "def Euler(x,y,RunningTotal): \n",
    "    while x < 100000: \n",
    "        Total=(1/(x**y))\n",
    "        #print(Total)\n",
    "        RunningTotal+=Total \n",
    "        x+=1.0 \n",
    "    return RunningTotal \n",
    "\n",
    "def comparator(a,b): \n",
    "    Leftover=a-b\n",
    "    return Leftover\n",
    "\n",
    "def main():\n",
    "    a=Euler(x,y,RunningTotal) \n",
    "    answer=comparator(a,b)\n",
    "    print(a)\n",
    "    print(b)\n",
    "    print(round(answer,3)) \n",
    "    \n",
    "if __name__ == '__main__': main()\n",
    "    \n",
    "    \n",
    "\n",
    "\n"
   ]
  }
 ],
 "metadata": {
  "kernelspec": {
   "display_name": "Python 3 (ipykernel)",
   "language": "python",
   "name": "python3"
  },
  "language_info": {
   "codemirror_mode": {
    "name": "ipython",
    "version": 3
   },
   "file_extension": ".py",
   "mimetype": "text/x-python",
   "name": "python",
   "nbconvert_exporter": "python",
   "pygments_lexer": "ipython3",
   "version": "3.9.5"
  }
 },
 "nbformat": 4,
 "nbformat_minor": 5
}
